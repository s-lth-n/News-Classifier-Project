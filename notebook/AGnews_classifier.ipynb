{
 "cells": [
  {
   "cell_type": "markdown",
   "id": "e5354da3",
   "metadata": {},
   "source": [
    "_Train and Evaluate!_"
   ]
  },
  {
   "cell_type": "code",
   "execution_count": 7,
   "id": "313ab39c",
   "metadata": {},
   "outputs": [
    {
     "name": "stdout",
     "output_type": "stream",
     "text": [
      "              precision    recall  f1-score   support\n",
      "\n",
      "           1       0.90      0.89      0.89      6009\n",
      "           2       0.94      0.98      0.96      5958\n",
      "           3       0.88      0.85      0.86      6024\n",
      "           4       0.86      0.87      0.87      6009\n",
      "\n",
      "    accuracy                           0.89     24000\n",
      "   macro avg       0.89      0.90      0.89     24000\n",
      "weighted avg       0.89      0.89      0.89     24000\n",
      "\n"
     ]
    }
   ],
   "source": [
    "from sklearn.feature_extraction.text import TfidfVectorizer\n",
    "from sklearn.model_selection import train_test_split\n",
    "from sklearn.naive_bayes import MultinomialNB\n",
    "from sklearn.metrics import classification_report\n",
    "import pandas as pd\n",
    "\n",
    "# Load and clean\n",
    "df = pd.read_csv(r'..\\data\\ag-news-train.csv')  # change this path to your file\n",
    "df.columns = df.columns.str.strip()  # clean column names\n",
    "\n",
    "# Combine Title and Description for better context\n",
    "df['combined_text'] = df['Title'] + ' ' + df['Description']\n",
    "\n",
    "# Vectorize\n",
    "vectorizer = TfidfVectorizer(stop_words='english', max_features=5000)\n",
    "X = vectorizer.fit_transform(df['combined_text'])\n",
    "y = df['Class Index']\n",
    "\n",
    "# Train-test split\n",
    "X_train, X_test, y_train, y_test = train_test_split(X, y, test_size=0.2)\n",
    "\n",
    "# Model training\n",
    "model = MultinomialNB()\n",
    "model.fit(X_train, y_train)\n",
    "\n",
    "# Evaluation\n",
    "y_pred = model.predict(X_test)\n",
    "print(classification_report(y_test, y_pred))\n"
   ]
  }
 ],
 "metadata": {
  "kernelspec": {
   "display_name": "Python 3",
   "language": "python",
   "name": "python3"
  },
  "language_info": {
   "codemirror_mode": {
    "name": "ipython",
    "version": 3
   },
   "file_extension": ".py",
   "mimetype": "text/x-python",
   "name": "python",
   "nbconvert_exporter": "python",
   "pygments_lexer": "ipython3",
   "version": "3.9.0"
  }
 },
 "nbformat": 4,
 "nbformat_minor": 5
}
