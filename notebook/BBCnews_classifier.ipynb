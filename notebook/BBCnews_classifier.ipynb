{
 "cells": [
  {
   "cell_type": "markdown",
   "id": "47c5ed68",
   "metadata": {},
   "source": [
    "_Cleaning the BBC News Dataset first_\n",
    "different from the AGnews, it's have to be cleaned first, hence why the different notebooks"
   ]
  },
  {
   "cell_type": "code",
   "execution_count": null,
   "id": "2804bb75",
   "metadata": {},
   "outputs": [
    {
     "name": "stdout",
     "output_type": "stream",
     "text": [
      "   category filename                              title  \\\n",
      "0  business  001.txt  Ad sales boost Time Warner profit   \n",
      "1  business  002.txt   Dollar gains on Greenspan speech   \n",
      "2  business  003.txt  Yukos unit buyer faces loan claim   \n",
      "3  business  004.txt  High fuel prices hit BA's profits   \n",
      "4  business  005.txt  Pernod takeover talk lifts Domecq   \n",
      "\n",
      "                                             content  \n",
      "0   Quarterly profits at US media giant TimeWarne...  \n",
      "1   The dollar has hit its highest level against ...  \n",
      "2   The owners of embattled Russian oil giant Yuk...  \n",
      "3   British Airways has blamed high fuel prices f...  \n",
      "4   Shares in UK drinks and food firm Allied Dome...  \n"
     ]
    }
   ],
   "source": [
    "import pandas as pd\n",
    "\n",
    "df = pd.read_csv(\n",
    "    r'D:\\AI-Projects\\News-Classifier-Project\\data\\bbc-news-data.csv',\n",
    "    sep='\\t',  # ← important!\n",
    "    encoding='utf-8',\n",
    "    on_bad_lines='skip'  # or 'warn' if you want to debug bad lines\n",
    ")\n",
    "\n",
    "df.columns = df.columns.str.strip()  # Remove any whitespace in headers\n",
    "print(df.head())\n"
   ]
  },
  {
   "cell_type": "code",
   "execution_count": 21,
   "id": "fa3a4a10",
   "metadata": {},
   "outputs": [],
   "source": [
    "# Drop rows with missing text or category\n",
    "df.dropna(subset=['title', 'content', 'category'], inplace=True)\n",
    "\n",
    "# Combine title and content\n",
    "df['text'] = df['title'].str.strip() + ' ' + df['content'].str.strip()\n",
    "\n",
    "X = df['text']\n",
    "y = df['category']\n"
   ]
  },
  {
   "cell_type": "markdown",
   "id": "191444dc",
   "metadata": {},
   "source": [
    "_Train and Evaluate!_"
   ]
  },
  {
   "cell_type": "code",
   "execution_count": null,
   "id": "313ab39c",
   "metadata": {},
   "outputs": [
    {
     "name": "stdout",
     "output_type": "stream",
     "text": [
      "               precision    recall  f1-score   support\n",
      "\n",
      "     business       1.00      0.96      0.98       102\n",
      "entertainment       1.00      1.00      1.00        77\n",
      "     politics       0.99      0.99      0.99        84\n",
      "        sport       0.99      1.00      1.00       102\n",
      "         tech       0.96      1.00      0.98        80\n",
      "\n",
      "     accuracy                           0.99       445\n",
      "    macro avg       0.99      0.99      0.99       445\n",
      " weighted avg       0.99      0.99      0.99       445\n",
      "\n"
     ]
    }
   ],
   "source": [
    "from sklearn.feature_extraction.text import TfidfVectorizer\n",
    "from sklearn.model_selection import train_test_split\n",
    "from sklearn.linear_model import LogisticRegression\n",
    "from sklearn.metrics import classification_report\n",
    "\n",
    "# Vectorize the text (TF-IDF)\n",
    "vectorizer = TfidfVectorizer(stop_words='english', max_features=5000)\n",
    "X_tfidf = vectorizer.fit_transform(X)\n",
    "\n",
    "# Train/test split\n",
    "X_train, X_test, y_train, y_test = train_test_split(\n",
    "    X_tfidf, y, test_size=0.2, random_state=42, stratify=y\n",
    ")\n",
    "\n",
    "# Train classifier (Logistic Regression)\n",
    "clf = LogisticRegression(max_iter=1000)\n",
    "clf.fit(X_train, y_train)\n",
    "\n",
    "# Evaluate\n",
    "y_pred = clf.predict(X_test)\n",
    "print(classification_report(y_test, y_pred))\n"
   ]
  }
 ],
 "metadata": {
  "kernelspec": {
   "display_name": "Python 3",
   "language": "python",
   "name": "python3"
  },
  "language_info": {
   "codemirror_mode": {
    "name": "ipython",
    "version": 3
   },
   "file_extension": ".py",
   "mimetype": "text/x-python",
   "name": "python",
   "nbconvert_exporter": "python",
   "pygments_lexer": "ipython3",
   "version": "3.9.0"
  }
 },
 "nbformat": 4,
 "nbformat_minor": 5
}
